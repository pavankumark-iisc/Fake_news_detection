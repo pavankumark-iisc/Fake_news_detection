{
 "cells": [
  {
   "cell_type": "code",
   "execution_count": 3,
   "id": "72d8fd25",
   "metadata": {},
   "outputs": [],
   "source": [
    "import requests\n",
    "from bs4 import BeautifulSoup\n",
    "from typing import List, Dict\n",
    "\n",
    "from serpapi import GoogleSearch\n",
    "\n",
    "from dotenv import load_dotenv\n",
    "import os\n",
    "\n",
    "from langchain_groq import ChatGroq\n",
    "from langchain.prompts import PromptTemplate\n",
    "import json\n",
    "\n",
    "from langchain.document_loaders import WebBaseLoader\n",
    "from langchain.text_splitter import RecursiveCharacterTextSplitter\n",
    "from langchain.vectorstores import FAISS\n",
    "from langchain.embeddings import HuggingFaceEmbeddings\n",
    "from langchain.llms import HuggingFacePipeline\n",
    "from langchain.prompts import PromptTemplate\n",
    "from langchain.chains import RetrievalQA\n",
    "from langchain.schema import Document\n",
    "\n",
    "from langchain.text_splitter import CharacterTextSplitter\n",
    "\n",
    "from langchain_core.output_parsers import StrOutputParser\n",
    "from langchain_core.runnables import RunnablePassthrough, RunnableLambda"
   ]
  },
  {
   "cell_type": "code",
   "execution_count": 4,
   "id": "c9895665",
   "metadata": {},
   "outputs": [
    {
     "name": "stdout",
     "output_type": "stream",
     "text": [
      "Current working directory: c:\\Users\\rahul\\OneDrive\\7_Learning\\IISC\\Courses\\3.1_Deep_Learning\\Course Material\\Project\\wip\n",
      "OPEN API KEY FOUND\n",
      "SERP API KEY FOUND\n",
      "SARVAM API KEY FOUND\n",
      "GROK API KEY FOUND\n",
      "SERP DEV API KEY FOUND\n",
      "TAV DEV API KEY FOUND\n"
     ]
    }
   ],
   "source": [
    "print(\"Current working directory:\", os.getcwd())\n",
    "load_dotenv()\n",
    "\n",
    "openai_api_key = os.getenv(\"OPENAI_API_KEY\")\n",
    "if openai_api_key:\n",
    "    print('OPEN API KEY FOUND')\n",
    "else:\n",
    "    print(\"No API key found\")\n",
    "\n",
    "serp_api_key = os.getenv(\"SERP_API_KEY\")\n",
    "if serp_api_key:\n",
    "    print('SERP API KEY FOUND')\n",
    "else:\n",
    "    print(\"No SERP API key found\")\n",
    "\n",
    "sarvam_api_key = os.getenv(\"SARVAM_API_KEY\")\n",
    "if sarvam_api_key:\n",
    "    print('SARVAM API KEY FOUND')\n",
    "else:\n",
    "    print(\"No SARVAM API key found\")\n",
    "\n",
    "grok_api_key = os.getenv(\"GROK_API_KEY\")\n",
    "if grok_api_key:\n",
    "    print('GROK API KEY FOUND')\n",
    "else:\n",
    "    print(\"No GROK API key found\")\n",
    "\n",
    "serp_dev_api_key = os.getenv(\"SERP_DEV_API_KEY\")\n",
    "if serp_dev_api_key:\n",
    "    print('SERP DEV API KEY FOUND')\n",
    "else:\n",
    "    print(\"No SERP API key found\")\n",
    "\n",
    "tav_dev_api_key = os.getenv(\"TAVILY_API_KEY\")\n",
    "if tav_dev_api_key:\n",
    "    print('TAV DEV API KEY FOUND')\n",
    "else:\n",
    "    print(\"No TAV API key found\")"
   ]
  },
  {
   "cell_type": "code",
   "execution_count": 5,
   "id": "f52d711d",
   "metadata": {},
   "outputs": [],
   "source": [
    "class SerperRetrieverWrapper:\n",
    "    def __init__(self, api_key: str, num_results: int = 5):\n",
    "        self.api_key = api_key\n",
    "        self.num_results = num_results\n",
    "    \n",
    "    def get_relevant_documents(self, query: str):\n",
    "        \"\"\"\n",
    "        Query Serper.dev and return up to `num_results` organic search hits.\n",
    "        Each hit is a dict: { \"title\": str, \"link\": str, \"snippet\": str }.\n",
    "        Raises HTTPError on non-2xx responses.\n",
    "        \"\"\"\n",
    "        _SERPER_SEARCH_URL = \"https://google.serper.dev/search\"\n",
    "    \n",
    "        headers = {\n",
    "            \"X-API-KEY\": self.api_key,\n",
    "            \"Content-Type\": \"application/json\"\n",
    "        }\n",
    "        payload = {\n",
    "            \"q\": 'site:news18.com ' + query,\n",
    "            \"num\": self.num_results,\n",
    "        }\n",
    "    \n",
    "        resp = requests.post(_SERPER_SEARCH_URL, headers=headers, json=payload, timeout=5)\n",
    "\n",
    "        if resp.status_code != 200:\n",
    "            raise Exception(f\"Serper API Error: {resp.text}\")\n",
    "        results = resp.json()\n",
    "    \n",
    "        documents = []\n",
    "        for result in results.get(\"organic\", [])[:self.num_results]:\n",
    "            content = f\"{result.get('title', '')}\\n{result.get('snippet', '')}\"\n",
    "            documents.append(Document(page_content=content, metadata={\"source\": result.get(\"link\", \"\")}))\n",
    "    \n",
    "        return documents"
   ]
  },
  {
   "cell_type": "code",
   "execution_count": 6,
   "id": "5a4c9aa5",
   "metadata": {},
   "outputs": [],
   "source": [
    "serper_retriever = SerperRetrieverWrapper(api_key=serp_dev_api_key)\n",
    "context_retriever = RunnableLambda(serper_retriever.get_relevant_documents)"
   ]
  },
  {
   "cell_type": "code",
   "execution_count": 7,
   "id": "06ebe20c",
   "metadata": {},
   "outputs": [],
   "source": [
    "prompt = PromptTemplate.from_template(\"\"\"\n",
    "You are a fake news detection assistant. Do not include any preamble or commentary. \n",
    "Based on the context from reliable sources, your task is to classify a claim as either REAL or FAKE.\n",
    "\n",
    "You will be given:\n",
    "    - A claim\n",
    "    - Context from reliable sources\n",
    "\n",
    "Your task is:\n",
    "    1. Analyze the claim using the provided evidence.\n",
    "    2. Classify the claim as REAL or FAKE.\n",
    "    3. Provide a brief explanation for your classification.\n",
    "    4. Output your answer in the following format:\n",
    "    {{\n",
    "        \"Classification\": \"REAL\" or \"FAKE\",\n",
    "        \"Explanation\": \"<1-2 sentence justification>\"\n",
    "    }}\n",
    "\n",
    "claim: {question}\n",
    "\n",
    "Context:\n",
    "{context}\n",
    "\"\"\")"
   ]
  },
  {
   "cell_type": "code",
   "execution_count": 8,
   "id": "072228b7",
   "metadata": {},
   "outputs": [],
   "source": [
    "summarizer_prompt = PromptTemplate.from_template(\"\"\"\n",
    "You are an assistant summarizing factual evidence from multiple documents.\n",
    "\n",
    "Based on the following documents, extract the key facts relevant to the claim.\n",
    "\n",
    "Claim: {question}\n",
    "\n",
    "Documents:\n",
    "{context}\n",
    "\n",
    "Return a short neutral summary of the key facts only.\n",
    "\"\"\")"
   ]
  },
  {
   "cell_type": "code",
   "execution_count": 9,
   "id": "4ca44361",
   "metadata": {},
   "outputs": [],
   "source": [
    "llm1 = ChatGroq(api_key=grok_api_key, model_name=\"llama3-8b-8192\")\n",
    "summarizer_chain = (\n",
    "    {\n",
    "        \"context\": context_retriever,\n",
    "        \"question\": RunnablePassthrough()\n",
    "    }\n",
    "    | summarizer_prompt\n",
    "    | llm1\n",
    "    | StrOutputParser()\n",
    ")"
   ]
  },
  {
   "cell_type": "code",
   "execution_count": 10,
   "id": "e91eb0cd",
   "metadata": {},
   "outputs": [],
   "source": [
    "judge_prompt = PromptTemplate.from_template(\"\"\"\n",
    "You are a fact-checking assistant.\n",
    "\n",
    "Claim: {question}\n",
    "\n",
    "Evidence:\n",
    "{evidence}\n",
    "\n",
    "Decide whether the claim is REAL or FAKE or UNSURE based only on the evidence.\n",
    "\n",
    "Respond in this format:\n",
    "Classification: REAL or FAKE\n",
    "Explanation: <your reasoning>\n",
    "\"\"\")"
   ]
  },
  {
   "cell_type": "code",
   "execution_count": 11,
   "id": "7a2ba43a",
   "metadata": {},
   "outputs": [],
   "source": [
    "llm2 = ChatGroq(api_key=grok_api_key, model_name=\"llama3-8b-8192\")\n",
    "fact_checker_chain = (\n",
    "    {\n",
    "        \"question\": RunnablePassthrough(),\n",
    "        \"evidence\": summarizer_chain \n",
    "    }\n",
    "    | judge_prompt\n",
    "    | llm2\n",
    "    | StrOutputParser()\n",
    ")"
   ]
  },
  {
   "cell_type": "code",
   "execution_count": 17,
   "id": "b23df750",
   "metadata": {},
   "outputs": [],
   "source": [
    "claim = \"australia beats south africa in the test series final\""
   ]
  },
  {
   "cell_type": "code",
   "execution_count": 18,
   "id": "f7195706",
   "metadata": {},
   "outputs": [
    {
     "data": {
      "text/plain": [
       "'Classification: FAKE\\nExplanation: The evidence provided shows that South Africa actually beat Australia in the ICC World Test Championship 2025 final, which contradicts the claim that Australia beats South Africa in the test series final. Therefore, the claim is false and classified as FAKE.'"
      ]
     },
     "execution_count": 18,
     "metadata": {},
     "output_type": "execute_result"
    }
   ],
   "source": [
    "fact_checker_chain.invoke(claim)"
   ]
  },
  {
   "cell_type": "code",
   "execution_count": 19,
   "id": "2bdffffd",
   "metadata": {},
   "outputs": [
    {
     "data": {
      "text/plain": [
       "'Based on the provided documents, the key facts relevant to the claim \"Australia beats South Africa in the test series final\" are:\\n\\n* The claim is actually false, as the documents confirm that South Africa won the ICC World Test Championship final against Australia.\\n* The match was held at Lord\\'s, and South Africa won by five wickets on the fourth day.\\n* This marks South Africa\\'s first major title in 27 years.\\n* Australian captain Temba Bavuma revealed that the Australian team used sledging tactics, calling them \"chokers\".\\n\\nThese key facts are based on the content of the provided documents, which include news articles and live score updates from the ICC World Test Championship final.'"
      ]
     },
     "execution_count": 19,
     "metadata": {},
     "output_type": "execute_result"
    }
   ],
   "source": [
    "summarizer_chain.invoke(claim)"
   ]
  },
  {
   "cell_type": "code",
   "execution_count": null,
   "id": "75b27e02",
   "metadata": {},
   "outputs": [],
   "source": []
  },
  {
   "cell_type": "code",
   "execution_count": null,
   "id": "df5ad7f2",
   "metadata": {},
   "outputs": [],
   "source": []
  },
  {
   "cell_type": "code",
   "execution_count": null,
   "id": "1377ad99",
   "metadata": {},
   "outputs": [],
   "source": []
  },
  {
   "cell_type": "code",
   "execution_count": null,
   "id": "9af00d32",
   "metadata": {},
   "outputs": [],
   "source": []
  },
  {
   "cell_type": "code",
   "execution_count": null,
   "id": "29ae3aec",
   "metadata": {},
   "outputs": [],
   "source": []
  },
  {
   "cell_type": "code",
   "execution_count": null,
   "id": "4fde3744",
   "metadata": {},
   "outputs": [],
   "source": []
  },
  {
   "cell_type": "code",
   "execution_count": null,
   "id": "e57c00ce",
   "metadata": {},
   "outputs": [],
   "source": []
  },
  {
   "cell_type": "code",
   "execution_count": null,
   "id": "f3dcbc34",
   "metadata": {},
   "outputs": [],
   "source": []
  },
  {
   "cell_type": "code",
   "execution_count": null,
   "id": "7bd3db54",
   "metadata": {},
   "outputs": [],
   "source": []
  },
  {
   "cell_type": "code",
   "execution_count": null,
   "id": "8dfeb8d2",
   "metadata": {},
   "outputs": [],
   "source": []
  }
 ],
 "metadata": {
  "kernelspec": {
   "display_name": "Python 3",
   "language": "python",
   "name": "python3"
  },
  "language_info": {
   "codemirror_mode": {
    "name": "ipython",
    "version": 3
   },
   "file_extension": ".py",
   "mimetype": "text/x-python",
   "name": "python",
   "nbconvert_exporter": "python",
   "pygments_lexer": "ipython3",
   "version": "3.11.9"
  }
 },
 "nbformat": 4,
 "nbformat_minor": 5
}
